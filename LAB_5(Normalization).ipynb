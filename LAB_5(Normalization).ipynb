{
  "nbformat": 4,
  "nbformat_minor": 0,
  "metadata": {
    "colab": {
      "name": "LAB-5(Normalization).ipynb",
      "provenance": [],
      "authorship_tag": "ABX9TyNxpf1jJrRDZgqn2Wk/610W",
      "include_colab_link": true
    },
    "kernelspec": {
      "name": "python3",
      "display_name": "Python 3"
    }
  },
  "cells": [
    {
      "cell_type": "markdown",
      "metadata": {
        "id": "view-in-github",
        "colab_type": "text"
      },
      "source": [
        "<a href=\"https://colab.research.google.com/github/Soubhagya48/DMDW-LAB5/blob/main/LAB_5(Normalization).ipynb\" target=\"_parent\"><img src=\"https://colab.research.google.com/assets/colab-badge.svg\" alt=\"Open In Colab\"/></a>"
      ]
    },
    {
      "cell_type": "markdown",
      "metadata": {
        "id": "u_q0CPTcRlh1"
      },
      "source": [
        "MIN-MAX NORMALIZATION"
      ]
    },
    {
      "cell_type": "code",
      "metadata": {
        "colab": {
          "base_uri": "https://localhost:8080/"
        },
        "id": "92tXyR9eRm2s",
        "outputId": "eda8a14b-021f-47e2-9dc9-215929c85f67"
      },
      "source": [
        "\n",
        "import numpy as np\n",
        "\n",
        "def normalize(x):\n",
        "    min = np.min(x)\n",
        "    max = np.max(x)\n",
        "    range = max - min\n",
        "\n",
        "    return [(a - min) / range for a in x]\n",
        "\n",
        "\n",
        "x = [7, 21, 13, 15]\n",
        "normalizedX = normalize(x)\n",
        "\n",
        "print(normalizedX)"
      ],
      "execution_count": 1,
      "outputs": [
        {
          "output_type": "stream",
          "text": [
            "[0.0, 1.0, 0.42857142857142855, 0.5714285714285714]\n"
          ],
          "name": "stdout"
        }
      ]
    },
    {
      "cell_type": "code",
      "metadata": {
        "id": "8dn1qK-2ZXGv"
      },
      "source": [
        "import pandas as pd"
      ],
      "execution_count": 9,
      "outputs": []
    },
    {
      "cell_type": "markdown",
      "metadata": {
        "id": "L7BQMXujRsT0"
      },
      "source": [
        " Z-SCORE NORMALIZATION"
      ]
    },
    {
      "cell_type": "code",
      "metadata": {
        "id": "7KsB4f10R2Bg"
      },
      "source": [
        "import numpy as np\n"
      ],
      "execution_count": 2,
      "outputs": []
    },
    {
      "cell_type": "code",
      "metadata": {
        "id": "FjpiStzxR6MG"
      },
      "source": [
        "np.random.seed(0) \n"
      ],
      "execution_count": 3,
      "outputs": []
    },
    {
      "cell_type": "code",
      "metadata": {
        "colab": {
          "base_uri": "https://localhost:8080/",
          "height": 195
        },
        "id": "I2Rbz3MCR6O1",
        "outputId": "0dbde5e4-6b6e-47ba-cb9f-8242204966d8"
      },
      "source": [
        "df = pd.DataFrame(np.random.randn(5,3), columns=[\"randomA\", \"randomB\",\"randomC\"])\n",
        "df"
      ],
      "execution_count": 10,
      "outputs": [
        {
          "output_type": "execute_result",
          "data": {
            "text/html": [
              "<div>\n",
              "<style scoped>\n",
              "    .dataframe tbody tr th:only-of-type {\n",
              "        vertical-align: middle;\n",
              "    }\n",
              "\n",
              "    .dataframe tbody tr th {\n",
              "        vertical-align: top;\n",
              "    }\n",
              "\n",
              "    .dataframe thead th {\n",
              "        text-align: right;\n",
              "    }\n",
              "</style>\n",
              "<table border=\"1\" class=\"dataframe\">\n",
              "  <thead>\n",
              "    <tr style=\"text-align: right;\">\n",
              "      <th></th>\n",
              "      <th>randomA</th>\n",
              "      <th>randomB</th>\n",
              "      <th>randomC</th>\n",
              "    </tr>\n",
              "  </thead>\n",
              "  <tbody>\n",
              "    <tr>\n",
              "      <th>0</th>\n",
              "      <td>1.764052</td>\n",
              "      <td>0.400157</td>\n",
              "      <td>0.978738</td>\n",
              "    </tr>\n",
              "    <tr>\n",
              "      <th>1</th>\n",
              "      <td>2.240893</td>\n",
              "      <td>1.867558</td>\n",
              "      <td>-0.977278</td>\n",
              "    </tr>\n",
              "    <tr>\n",
              "      <th>2</th>\n",
              "      <td>0.950088</td>\n",
              "      <td>-0.151357</td>\n",
              "      <td>-0.103219</td>\n",
              "    </tr>\n",
              "    <tr>\n",
              "      <th>3</th>\n",
              "      <td>0.410599</td>\n",
              "      <td>0.144044</td>\n",
              "      <td>1.454274</td>\n",
              "    </tr>\n",
              "    <tr>\n",
              "      <th>4</th>\n",
              "      <td>0.761038</td>\n",
              "      <td>0.121675</td>\n",
              "      <td>0.443863</td>\n",
              "    </tr>\n",
              "  </tbody>\n",
              "</table>\n",
              "</div>"
            ],
            "text/plain": [
              "    randomA   randomB   randomC\n",
              "0  1.764052  0.400157  0.978738\n",
              "1  2.240893  1.867558 -0.977278\n",
              "2  0.950088 -0.151357 -0.103219\n",
              "3  0.410599  0.144044  1.454274\n",
              "4  0.761038  0.121675  0.443863"
            ]
          },
          "metadata": {
            "tags": []
          },
          "execution_count": 10
        }
      ]
    },
    {
      "cell_type": "code",
      "metadata": {
        "id": "3i545rj7ScT-"
      },
      "source": [
        "def z_score(df):\n",
        "df.columns = [x + \"_zscore\" for x in df.columns.tolist()]\n",
        "return ((df - df.mean())/df.std(ddof=0))"
      ],
      "execution_count": null,
      "outputs": []
    },
    {
      "cell_type": "code",
      "metadata": {
        "id": "AFbY4_yoZwED"
      },
      "source": [
        "z_score(df)"
      ],
      "execution_count": null,
      "outputs": []
    },
    {
      "cell_type": "code",
      "metadata": {
        "colab": {
          "base_uri": "https://localhost:8080/",
          "height": 195
        },
        "id": "2aqxuPVfSccc",
        "outputId": "56b004ea-18fc-4764-cae5-5cad4a4abdd4"
      },
      "source": [
        "from scipy.stats import zscore\n",
        "df.apply(zscore) "
      ],
      "execution_count": 12,
      "outputs": [
        {
          "output_type": "execute_result",
          "data": {
            "text/html": [
              "<div>\n",
              "<style scoped>\n",
              "    .dataframe tbody tr th:only-of-type {\n",
              "        vertical-align: middle;\n",
              "    }\n",
              "\n",
              "    .dataframe tbody tr th {\n",
              "        vertical-align: top;\n",
              "    }\n",
              "\n",
              "    .dataframe thead th {\n",
              "        text-align: right;\n",
              "    }\n",
              "</style>\n",
              "<table border=\"1\" class=\"dataframe\">\n",
              "  <thead>\n",
              "    <tr style=\"text-align: right;\">\n",
              "      <th></th>\n",
              "      <th>randomA</th>\n",
              "      <th>randomB</th>\n",
              "      <th>randomC</th>\n",
              "    </tr>\n",
              "  </thead>\n",
              "  <tbody>\n",
              "    <tr>\n",
              "      <th>0</th>\n",
              "      <td>0.798350</td>\n",
              "      <td>-0.106335</td>\n",
              "      <td>0.731041</td>\n",
              "    </tr>\n",
              "    <tr>\n",
              "      <th>1</th>\n",
              "      <td>1.505002</td>\n",
              "      <td>1.939828</td>\n",
              "      <td>-1.577295</td>\n",
              "    </tr>\n",
              "    <tr>\n",
              "      <th>2</th>\n",
              "      <td>-0.407899</td>\n",
              "      <td>-0.875374</td>\n",
              "      <td>-0.545799</td>\n",
              "    </tr>\n",
              "    <tr>\n",
              "      <th>3</th>\n",
              "      <td>-1.207392</td>\n",
              "      <td>-0.463464</td>\n",
              "      <td>1.292230</td>\n",
              "    </tr>\n",
              "    <tr>\n",
              "      <th>4</th>\n",
              "      <td>-0.688061</td>\n",
              "      <td>-0.494655</td>\n",
              "      <td>0.099824</td>\n",
              "    </tr>\n",
              "  </tbody>\n",
              "</table>\n",
              "</div>"
            ],
            "text/plain": [
              "    randomA   randomB   randomC\n",
              "0  0.798350 -0.106335  0.731041\n",
              "1  1.505002  1.939828 -1.577295\n",
              "2 -0.407899 -0.875374 -0.545799\n",
              "3 -1.207392 -0.463464  1.292230\n",
              "4 -0.688061 -0.494655  0.099824"
            ]
          },
          "metadata": {
            "tags": []
          },
          "execution_count": 12
        }
      ]
    }
  ]
}